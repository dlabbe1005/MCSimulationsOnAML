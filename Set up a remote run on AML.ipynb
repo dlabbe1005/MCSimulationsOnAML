{
 "cells": [
  {
   "cell_type": "markdown",
   "metadata": {},
   "source": [
    "## 1. Setting up the Environment"
   ]
  },
  {
   "cell_type": "markdown",
   "metadata": {},
   "source": [
    "#### 1.1. Install AML SDK"
   ]
  },
  {
   "cell_type": "markdown",
   "metadata": {},
   "source": [
    "PYPI reference: https://pypi.org/project/azureml-core/"
   ]
  },
  {
   "cell_type": "markdown",
   "metadata": {},
   "source": [
    "Using !pip for demonstration purposes only. Use the terminal and managed conda/python environments for this! "
   ]
  },
  {
   "cell_type": "code",
   "execution_count": null,
   "metadata": {},
   "outputs": [],
   "source": [
    "!pip install azureml-core"
   ]
  },
  {
   "cell_type": "markdown",
   "metadata": {},
   "source": [
    "#### 1.2. Checking the version"
   ]
  },
  {
   "cell_type": "code",
   "execution_count": null,
   "metadata": {},
   "outputs": [],
   "source": [
    "!pip show azureml-core"
   ]
  },
  {
   "cell_type": "markdown",
   "metadata": {},
   "source": [
    "AML Python SDK Installation guide: https://docs.microsoft.com/en-us/python/api/overview/azure/ml/install?view=azure-ml-py"
   ]
  },
  {
   "cell_type": "markdown",
   "metadata": {},
   "source": [
    "---"
   ]
  },
  {
   "cell_type": "markdown",
   "metadata": {},
   "source": [
    "## 2. Create AML Workspace"
   ]
  },
  {
   "cell_type": "markdown",
   "metadata": {},
   "source": [
    "#### 2.1. Import the necessary modules to connect to the workspace"
   ]
  },
  {
   "cell_type": "code",
   "execution_count": null,
   "metadata": {},
   "outputs": [],
   "source": [
    "# import the SDK modules to manage workspace\n",
    "from azureml.core import Workspace"
   ]
  },
  {
   "cell_type": "markdown",
   "metadata": {},
   "source": [
    "#### 2.2. Create AML Workspace"
   ]
  },
  {
   "cell_type": "code",
   "execution_count": null,
   "metadata": {},
   "outputs": [],
   "source": [
    "# define workspace info\n",
    "workspace_name      = 'aml'\n",
    "subscription_id     = '##YOUR SUBSCRIPTION KEY##'\n",
    "resource_group_name = 'SvenskaHandelsbanken'\n",
    "service_location    = 'westeurope'"
   ]
  },
  {
   "cell_type": "code",
   "execution_count": null,
   "metadata": {},
   "outputs": [],
   "source": [
    "# Verify that workspace does not exist already\n",
    "try: \n",
    "    # try to get the workspace\n",
    "    ws_obj = Workspace.get(name = workspace_name, subscription_id = subscription_id, resource_group = resource_group_name)\n",
    "    print('Found existing workspace.')\n",
    "\n",
    "except:\n",
    "    # create the Azure Machine Learning Workspace into the specified subscription, resource group, and region\n",
    "    # this command creates also a storage account, application insights, and key vault\n",
    "    ws_obj = Workspace.create(name            = workspace_name,\n",
    "                              subscription_id = subscription_id,\n",
    "                              resource_group  = resource_group_name,\n",
    "                              location        = service_location)"
   ]
  },
  {
   "cell_type": "markdown",
   "metadata": {},
   "source": [
    "#### 2.3. List all the workspaces"
   ]
  },
  {
   "cell_type": "code",
   "execution_count": null,
   "metadata": {},
   "outputs": [],
   "source": [
    "# eventually you can get all the workspaces from a subscription or resource group\n",
    "Workspace.list(subscription_id = subscription_id, resource_group = resource_group_name)"
   ]
  },
  {
   "cell_type": "markdown",
   "metadata": {},
   "source": [
    "---"
   ]
  },
  {
   "cell_type": "markdown",
   "metadata": {},
   "source": [
    "## 3. Create Remote Compute"
   ]
  },
  {
   "cell_type": "markdown",
   "metadata": {},
   "source": [
    "#### 3.1. Import the necessary modules to control the compute"
   ]
  },
  {
   "cell_type": "code",
   "execution_count": null,
   "metadata": {},
   "outputs": [],
   "source": [
    "# import the SDK modules to manage computes\n",
    "from azureml.core.compute import ComputeTarget, AmlCompute\n",
    "from azureml.core.compute_target import ComputeTargetException"
   ]
  },
  {
   "cell_type": "code",
   "execution_count": null,
   "metadata": {},
   "outputs": [],
   "source": [
    "# define compute cluster info\n",
    "cpu_cluster_name = 'cpucluster'"
   ]
  },
  {
   "cell_type": "markdown",
   "metadata": {},
   "source": [
    "#### 3.2. Provision the compute targets"
   ]
  },
  {
   "cell_type": "code",
   "execution_count": null,
   "metadata": {},
   "outputs": [],
   "source": [
    "# Verify that cluster does not exist already\n",
    "try:\n",
    "    # try to get the compute cluster\n",
    "    cpu_cluster = ComputeTarget(workspace = ws_obj, name = cpu_cluster_name)\n",
    "    print('Found existing cluster')\n",
    "    \n",
    "except ComputeTargetException:\n",
    "    # create the compute cluster\n",
    "    compute_config = AmlCompute.provisioning_configuration(vm_size = 'STANDARD_D2_V2', max_nodes = 4)\n",
    "    cpu_cluster = ComputeTarget.create(ws_obj, cpu_cluster_name, compute_config)\n",
    "\n",
    "# check the status of the provisioning\n",
    "cpu_cluster.wait_for_completion(show_output=True)"
   ]
  },
  {
   "cell_type": "markdown",
   "metadata": {},
   "source": [
    "---"
   ]
  },
  {
   "cell_type": "markdown",
   "metadata": {},
   "source": [
    "## 4. Prepare the Execution"
   ]
  },
  {
   "cell_type": "markdown",
   "metadata": {},
   "source": [
    "#### 4.1. Import the necessary modules to control the execution"
   ]
  },
  {
   "cell_type": "code",
   "execution_count": null,
   "metadata": {},
   "outputs": [],
   "source": [
    "# import the SDK modules to manage runs\n",
    "from azureml.core import Experiment, Environment, ScriptRunConfig\n",
    "from azureml.core.conda_dependencies import CondaDependencies"
   ]
  },
  {
   "cell_type": "markdown",
   "metadata": {},
   "source": [
    "#### 4.2. Prepare the config of the run and the parametrization of the script"
   ]
  },
  {
   "cell_type": "code",
   "execution_count": null,
   "metadata": {},
   "outputs": [],
   "source": [
    "# define run info \n",
    "experiment_name  = 'monte_carlo_simulation'\n",
    "curated_env_name = 'AzureML-Minimal'\n",
    "env_name         = 'mc_env'\n",
    "source_dir       = './scripts/'\n",
    "script_name      = 'mc_simulations.py'"
   ]
  },
  {
   "cell_type": "code",
   "execution_count": null,
   "metadata": {},
   "outputs": [],
   "source": [
    "# define the arguments \n",
    "num_simulations  = 1000\n",
    "avg = 1\n",
    "std_dev = .1\n",
    "num_reps = 500\n",
    "\n",
    "list_args = ['--num_simulations', num_simulations,\n",
    "             '--avg', avg,\n",
    "             '--std_dev', std_dev,\n",
    "             '--num_reps', num_reps]"
   ]
  },
  {
   "cell_type": "markdown",
   "metadata": {},
   "source": [
    "#### 4.3. Prepare the Experiment Object"
   ]
  },
  {
   "cell_type": "code",
   "execution_count": null,
   "metadata": {},
   "outputs": [],
   "source": [
    "experiment_obj = Experiment(workspace = ws_obj, name = experiment_name)"
   ]
  },
  {
   "cell_type": "markdown",
   "metadata": {},
   "source": [
    "#### 4.4. Prepare the environmnet"
   ]
  },
  {
   "cell_type": "code",
   "execution_count": null,
   "metadata": {},
   "outputs": [],
   "source": [
    "curated_env_obj = Environment.get(workspace = ws_obj, name = curated_env_name)\n",
    "env_obj = curated_env_obj.clone(env_name)"
   ]
  },
  {
   "cell_type": "code",
   "execution_count": null,
   "metadata": {},
   "outputs": [],
   "source": [
    "conda_dep = CondaDependencies()\n",
    "conda_dep.add_conda_package('numpy')\n",
    "conda_dep.add_conda_package('pandas')\n",
    "\n",
    "# Adds dependencies to PythonSection of env_obj\n",
    "env_obj.python.conda_dependencies = conda_dep"
   ]
  },
  {
   "cell_type": "markdown",
   "metadata": {},
   "source": [
    "#### 4.5. Bind everything into the Run Config"
   ]
  },
  {
   "cell_type": "code",
   "execution_count": null,
   "metadata": {},
   "outputs": [],
   "source": [
    "script_run_config = ScriptRunConfig(source_directory = source_dir,\n",
    "                                    script           = script_name,\n",
    "                                    arguments        = list_args,\n",
    "                                    compute_target   = cpu_cluster,\n",
    "                                    environment      = env_obj)"
   ]
  },
  {
   "cell_type": "markdown",
   "metadata": {},
   "source": [
    "---"
   ]
  },
  {
   "cell_type": "markdown",
   "metadata": {},
   "source": [
    "## 5. Run"
   ]
  },
  {
   "cell_type": "markdown",
   "metadata": {},
   "source": [
    "#### 5.1. Run the experiment with the specified configuration"
   ]
  },
  {
   "cell_type": "code",
   "execution_count": null,
   "metadata": {},
   "outputs": [],
   "source": [
    "# Start the asynchronous execution\n",
    "run_obj = experiment_obj.submit(config = script_run_config)"
   ]
  },
  {
   "cell_type": "markdown",
   "metadata": {},
   "source": [
    "#### 5.2. Manage the execution"
   ]
  },
  {
   "cell_type": "code",
   "execution_count": null,
   "metadata": {},
   "outputs": [],
   "source": [
    "# Eventually, you can lock the execution until it has been completed\n",
    "run_obj.wait_for_completion(show_output = True)"
   ]
  },
  {
   "cell_type": "code",
   "execution_count": null,
   "metadata": {},
   "outputs": [],
   "source": [
    "# Or just check the status\n",
    "run_obj.get_status()"
   ]
  }
 ],
 "metadata": {
  "kernelspec": {
   "display_name": "Python 3",
   "language": "python",
   "name": "python3"
  },
  "language_info": {
   "codemirror_mode": {
    "name": "ipython",
    "version": 3
   },
   "file_extension": ".py",
   "mimetype": "text/x-python",
   "name": "python",
   "nbconvert_exporter": "python",
   "pygments_lexer": "ipython3",
   "version": "3.7.0"
  }
 },
 "nbformat": 4,
 "nbformat_minor": 2
}
